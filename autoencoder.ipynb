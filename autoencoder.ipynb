{
 "cells": [
  {
   "cell_type": "markdown",
   "id": "626eb14e",
   "metadata": {},
   "source": [
    "## Deep Autoencoders\n",
    "code implemented from [link](https://debuggercafe.com/implementing-deep-autoencoder-in-pytorch/)"
   ]
  },
  {
   "cell_type": "markdown",
   "id": "a87aab82",
   "metadata": {},
   "source": [
    "### Importing required libraries and modules"
   ]
  },
  {
   "cell_type": "code",
   "execution_count": 1,
   "id": "7e138f59",
   "metadata": {},
   "outputs": [
    {
     "name": "stderr",
     "output_type": "stream",
     "text": [
      "/Users/uu/opt/anaconda3/lib/python3.9/site-packages/tqdm/auto.py:22: TqdmWarning: IProgress not found. Please update jupyter and ipywidgets. See https://ipywidgets.readthedocs.io/en/stable/user_install.html\n",
      "  from .autonotebook import tqdm as notebook_tqdm\n"
     ]
    }
   ],
   "source": [
    "import os\n",
    "import torch \n",
    "import torchvision\n",
    "import torch.nn as nn\n",
    "import torchvision.transforms as transforms\n",
    "import torch.optim as optim\n",
    "import matplotlib.pyplot as plt\n",
    "import torch.nn.functional as F\n",
    " \n",
    "from torchvision import datasets\n",
    "from torch.utils.data import DataLoader\n",
    "from torchvision.utils import save_image"
   ]
  },
  {
   "cell_type": "markdown",
   "id": "0b69a47a",
   "metadata": {},
   "source": [
    "### Define constants and prepare data"
   ]
  },
  {
   "cell_type": "code",
   "execution_count": 2,
   "id": "6a69f054",
   "metadata": {},
   "outputs": [],
   "source": [
    "# constants\n",
    "NUM_EPOCHS = 50\n",
    "LEARNING_RATE = 1e-3\n",
    "BATCH_SIZE = 128\n",
    "# image transformations\n",
    "transform = transforms.Compose([\n",
    "    transforms.ToTensor(),\n",
    "])"
   ]
  },
  {
   "cell_type": "code",
   "execution_count": 3,
   "id": "d23f4efc",
   "metadata": {},
   "outputs": [
    {
     "name": "stdout",
     "output_type": "stream",
     "text": [
      "Downloading http://fashion-mnist.s3-website.eu-central-1.amazonaws.com/train-images-idx3-ubyte.gz\n",
      "Downloading http://fashion-mnist.s3-website.eu-central-1.amazonaws.com/train-images-idx3-ubyte.gz to ./data/FashionMNIST/raw/train-images-idx3-ubyte.gz\n"
     ]
    },
    {
     "name": "stderr",
     "output_type": "stream",
     "text": [
      "100%|██████████████████████████| 26421880/26421880 [00:04<00:00, 5632528.02it/s]\n"
     ]
    },
    {
     "name": "stdout",
     "output_type": "stream",
     "text": [
      "Extracting ./data/FashionMNIST/raw/train-images-idx3-ubyte.gz to ./data/FashionMNIST/raw\n",
      "\n",
      "Downloading http://fashion-mnist.s3-website.eu-central-1.amazonaws.com/train-labels-idx1-ubyte.gz\n",
      "Downloading http://fashion-mnist.s3-website.eu-central-1.amazonaws.com/train-labels-idx1-ubyte.gz to ./data/FashionMNIST/raw/train-labels-idx1-ubyte.gz\n"
     ]
    },
    {
     "name": "stderr",
     "output_type": "stream",
     "text": [
      "100%|█████████████████████████████████| 29515/29515 [00:00<00:00, 176979.03it/s]\n"
     ]
    },
    {
     "name": "stdout",
     "output_type": "stream",
     "text": [
      "Extracting ./data/FashionMNIST/raw/train-labels-idx1-ubyte.gz to ./data/FashionMNIST/raw\n",
      "\n",
      "Downloading http://fashion-mnist.s3-website.eu-central-1.amazonaws.com/t10k-images-idx3-ubyte.gz\n",
      "Downloading http://fashion-mnist.s3-website.eu-central-1.amazonaws.com/t10k-images-idx3-ubyte.gz to ./data/FashionMNIST/raw/t10k-images-idx3-ubyte.gz\n"
     ]
    },
    {
     "name": "stderr",
     "output_type": "stream",
     "text": [
      "100%|████████████████████████████| 4422102/4422102 [00:01<00:00, 2967847.50it/s]\n"
     ]
    },
    {
     "name": "stdout",
     "output_type": "stream",
     "text": [
      "Extracting ./data/FashionMNIST/raw/t10k-images-idx3-ubyte.gz to ./data/FashionMNIST/raw\n",
      "\n",
      "Downloading http://fashion-mnist.s3-website.eu-central-1.amazonaws.com/t10k-labels-idx1-ubyte.gz\n",
      "Downloading http://fashion-mnist.s3-website.eu-central-1.amazonaws.com/t10k-labels-idx1-ubyte.gz to ./data/FashionMNIST/raw/t10k-labels-idx1-ubyte.gz\n"
     ]
    },
    {
     "name": "stderr",
     "output_type": "stream",
     "text": [
      "100%|██████████████████████████████████| 5148/5148 [00:00<00:00, 2531037.04it/s]"
     ]
    },
    {
     "name": "stdout",
     "output_type": "stream",
     "text": [
      "Extracting ./data/FashionMNIST/raw/t10k-labels-idx1-ubyte.gz to ./data/FashionMNIST/raw\n",
      "\n"
     ]
    },
    {
     "name": "stderr",
     "output_type": "stream",
     "text": [
      "\n"
     ]
    }
   ],
   "source": [
    "trainset = datasets.FashionMNIST(\n",
    "    root='./data',\n",
    "    train=True, \n",
    "    download=True,\n",
    "    transform=transform\n",
    ")\n",
    "testset = datasets.FashionMNIST(\n",
    "    root='./data',\n",
    "    train=False,\n",
    "    download=True,\n",
    "    transform=transform\n",
    ")\n",
    "trainloader = DataLoader(\n",
    "    trainset, \n",
    "    batch_size=BATCH_SIZE,\n",
    "    shuffle=True\n",
    ")\n",
    "testloader = DataLoader(\n",
    "    testset, \n",
    "    batch_size=BATCH_SIZE, \n",
    "    shuffle=True\n",
    ")"
   ]
  },
  {
   "cell_type": "markdown",
   "id": "d670aedf",
   "metadata": {},
   "source": [
    "### Utility functions"
   ]
  },
  {
   "cell_type": "code",
   "execution_count": 4,
   "id": "91a25ecd",
   "metadata": {},
   "outputs": [],
   "source": [
    "def get_device():\n",
    "    if torch.backends.mps.is_available():\n",
    "        device = torch.device(\"mps\")\n",
    "    else:\n",
    "        device = torch.device(\"cpu\")\n",
    "    return device\n",
    "def make_dir():\n",
    "    image_dir = 'FashionMNIST_Images'\n",
    "    if not os.path.exists(image_dir):\n",
    "        os.makedirs(image_dir)\n",
    "def save_decoded_image(img, epoch):\n",
    "    img = img.view(img.size(0), 1, 28, 28)\n",
    "    save_image(img, './FashionMNIST_Images/linear_ae_image{}.png'.format(epoch))"
   ]
  },
  {
   "cell_type": "markdown",
   "id": "d765a25c",
   "metadata": {},
   "source": [
    "### Define the Autoencoder Network"
   ]
  },
  {
   "cell_type": "code",
   "execution_count": 5,
   "id": "c5976ff7",
   "metadata": {},
   "outputs": [
    {
     "name": "stdout",
     "output_type": "stream",
     "text": [
      "Autoencoder(\n",
      "  (enc1): Linear(in_features=784, out_features=256, bias=True)\n",
      "  (enc2): Linear(in_features=256, out_features=128, bias=True)\n",
      "  (enc3): Linear(in_features=128, out_features=64, bias=True)\n",
      "  (enc4): Linear(in_features=64, out_features=32, bias=True)\n",
      "  (enc5): Linear(in_features=32, out_features=16, bias=True)\n",
      "  (dec1): Linear(in_features=16, out_features=32, bias=True)\n",
      "  (dec2): Linear(in_features=32, out_features=64, bias=True)\n",
      "  (dec3): Linear(in_features=64, out_features=128, bias=True)\n",
      "  (dec4): Linear(in_features=128, out_features=256, bias=True)\n",
      "  (dec5): Linear(in_features=256, out_features=784, bias=True)\n",
      ")\n"
     ]
    }
   ],
   "source": [
    "class Autoencoder(nn.Module):\n",
    "    def __init__(self):\n",
    "        super(Autoencoder, self).__init__()\n",
    "        # encoder\n",
    "        self.enc1 = nn.Linear(in_features=784, out_features=256)\n",
    "        self.enc2 = nn.Linear(in_features=256, out_features=128)\n",
    "        self.enc3 = nn.Linear(in_features=128, out_features=64)\n",
    "        self.enc4 = nn.Linear(in_features=64, out_features=32)\n",
    "        self.enc5 = nn.Linear(in_features=32, out_features=16)\n",
    "        # decoder \n",
    "        self.dec1 = nn.Linear(in_features=16, out_features=32)\n",
    "        self.dec2 = nn.Linear(in_features=32, out_features=64)\n",
    "        self.dec3 = nn.Linear(in_features=64, out_features=128)\n",
    "        self.dec4 = nn.Linear(in_features=128, out_features=256)\n",
    "        self.dec5 = nn.Linear(in_features=256, out_features=784)\n",
    "    def forward(self, x):\n",
    "        x = F.relu(self.enc1(x))\n",
    "        x = F.relu(self.enc2(x))\n",
    "        x = F.relu(self.enc3(x))\n",
    "        x = F.relu(self.enc4(x))\n",
    "        x = F.relu(self.enc5(x))\n",
    "        x = F.relu(self.dec1(x))\n",
    "        x = F.relu(self.dec2(x))\n",
    "        x = F.relu(self.dec3(x))\n",
    "        x = F.relu(self.dec4(x))\n",
    "        x = F.relu(self.dec5(x))\n",
    "        return x\n",
    "net = Autoencoder()\n",
    "print(net)"
   ]
  },
  {
   "cell_type": "markdown",
   "id": "e28788c8",
   "metadata": {},
   "source": [
    "#### Define loss function and optimizer for our network"
   ]
  },
  {
   "cell_type": "code",
   "execution_count": 6,
   "id": "e856c889",
   "metadata": {},
   "outputs": [],
   "source": [
    "criterion = nn.MSELoss()\n",
    "optimizer = optim.Adam(net.parameters(), lr=LEARNING_RATE)"
   ]
  },
  {
   "cell_type": "markdown",
   "id": "fc2d97ca",
   "metadata": {},
   "source": [
    "### Train and test functions"
   ]
  },
  {
   "cell_type": "code",
   "execution_count": 7,
   "id": "c1830b42",
   "metadata": {},
   "outputs": [],
   "source": [
    "def train(net, trainloader, NUM_EPOCHS):\n",
    "    train_loss = []\n",
    "    for epoch in range(NUM_EPOCHS):\n",
    "        running_loss = 0.0\n",
    "        for data in trainloader:\n",
    "            img, _ = data\n",
    "            img = img.to(device)\n",
    "            img = img.view(img.size(0), -1)\n",
    "            optimizer.zero_grad()\n",
    "            outputs = net(img)\n",
    "            loss = criterion(outputs, img)\n",
    "            loss.backward()\n",
    "            optimizer.step()\n",
    "            running_loss += loss.item()\n",
    "        \n",
    "        loss = running_loss / len(trainloader)\n",
    "        train_loss.append(loss)\n",
    "        print('Epoch {} of {}, Train Loss: {:.3f}'.format(\n",
    "            epoch+1, NUM_EPOCHS, loss))\n",
    "        if epoch % 5 == 0:\n",
    "            save_decoded_image(outputs.cpu().data, epoch)\n",
    "    return train_loss\n",
    "def test_image_reconstruction(net, testloader):\n",
    "     for batch in testloader:\n",
    "        img, _ = batch\n",
    "        img = img.to(device)\n",
    "        img = img.view(img.size(0), -1)\n",
    "        outputs = net(img)\n",
    "        outputs = outputs.view(outputs.size(0), 1, 28, 28).cpu().data\n",
    "        save_image(outputs, 'fashionmnist_reconstruction.png')\n",
    "        break"
   ]
  },
  {
   "cell_type": "markdown",
   "id": "8f70df97",
   "metadata": {},
   "source": [
    "### Training Autoencoder Network"
   ]
  },
  {
   "cell_type": "code",
   "execution_count": 8,
   "id": "096ff37d",
   "metadata": {
    "scrolled": false
   },
   "outputs": [
    {
     "name": "stdout",
     "output_type": "stream",
     "text": [
      "mps\n",
      "Epoch 1 of 50, Train Loss: 0.075\n",
      "Epoch 2 of 50, Train Loss: 0.044\n",
      "Epoch 3 of 50, Train Loss: 0.037\n",
      "Epoch 4 of 50, Train Loss: 0.033\n",
      "Epoch 5 of 50, Train Loss: 0.030\n",
      "Epoch 6 of 50, Train Loss: 0.028\n",
      "Epoch 7 of 50, Train Loss: 0.027\n",
      "Epoch 8 of 50, Train Loss: 0.026\n",
      "Epoch 9 of 50, Train Loss: 0.025\n",
      "Epoch 10 of 50, Train Loss: 0.025\n",
      "Epoch 11 of 50, Train Loss: 0.024\n",
      "Epoch 12 of 50, Train Loss: 0.024\n",
      "Epoch 13 of 50, Train Loss: 0.024\n",
      "Epoch 14 of 50, Train Loss: 0.023\n",
      "Epoch 15 of 50, Train Loss: 0.023\n",
      "Epoch 16 of 50, Train Loss: 0.023\n",
      "Epoch 17 of 50, Train Loss: 0.022\n",
      "Epoch 18 of 50, Train Loss: 0.022\n",
      "Epoch 19 of 50, Train Loss: 0.021\n",
      "Epoch 20 of 50, Train Loss: 0.021\n",
      "Epoch 21 of 50, Train Loss: 0.021\n",
      "Epoch 22 of 50, Train Loss: 0.021\n",
      "Epoch 23 of 50, Train Loss: 0.021\n",
      "Epoch 24 of 50, Train Loss: 0.020\n",
      "Epoch 25 of 50, Train Loss: 0.020\n",
      "Epoch 26 of 50, Train Loss: 0.020\n",
      "Epoch 27 of 50, Train Loss: 0.020\n",
      "Epoch 28 of 50, Train Loss: 0.020\n",
      "Epoch 29 of 50, Train Loss: 0.019\n",
      "Epoch 30 of 50, Train Loss: 0.019\n",
      "Epoch 31 of 50, Train Loss: 0.019\n",
      "Epoch 32 of 50, Train Loss: 0.019\n",
      "Epoch 33 of 50, Train Loss: 0.019\n",
      "Epoch 34 of 50, Train Loss: 0.019\n",
      "Epoch 35 of 50, Train Loss: 0.019\n",
      "Epoch 36 of 50, Train Loss: 0.019\n",
      "Epoch 37 of 50, Train Loss: 0.019\n",
      "Epoch 38 of 50, Train Loss: 0.019\n",
      "Epoch 39 of 50, Train Loss: 0.019\n",
      "Epoch 40 of 50, Train Loss: 0.019\n",
      "Epoch 41 of 50, Train Loss: 0.019\n",
      "Epoch 42 of 50, Train Loss: 0.019\n",
      "Epoch 43 of 50, Train Loss: 0.019\n",
      "Epoch 44 of 50, Train Loss: 0.019\n",
      "Epoch 45 of 50, Train Loss: 0.018\n",
      "Epoch 46 of 50, Train Loss: 0.018\n",
      "Epoch 47 of 50, Train Loss: 0.018\n",
      "Epoch 48 of 50, Train Loss: 0.018\n",
      "Epoch 49 of 50, Train Loss: 0.018\n",
      "Epoch 50 of 50, Train Loss: 0.018\n"
     ]
    },
    {
     "data": {
      "image/png": "[encoded data removed]",
      "text/plain": [
       "<Figure size 640x480 with 1 Axes>"
      ]
     },
     "metadata": {},
     "output_type": "display_data"
    }
   ],
   "source": [
    "# get the computation device\n",
    "device = get_device()\n",
    "print(device)\n",
    "# load the neural network onto the device\n",
    "net.to(device)\n",
    "make_dir()\n",
    "# train the network\n",
    "train_loss = train(net, trainloader, NUM_EPOCHS)\n",
    "plt.figure()\n",
    "plt.plot(train_loss)\n",
    "plt.title('Train Loss')\n",
    "plt.xlabel('Epochs')\n",
    "plt.ylabel('Loss')\n",
    "plt.savefig('deep_ae_fashionmnist_loss.png')\n",
    "# test the network\n",
    "test_image_reconstruction(net, testloader)"
   ]
  }
 ],
 "metadata": {
  "kernelspec": {
   "display_name": "Python 3 (ipykernel)",
   "language": "python",
   "name": "python3"
  },
  "language_info": {
   "codemirror_mode": {
    "name": "ipython",
    "version": 3
   },
   "file_extension": ".py",
   "mimetype": "text/x-python",
   "name": "python",
   "nbconvert_exporter": "python",
   "pygments_lexer": "ipython3",
   "version": "3.9.12"
  }
 },
 "nbformat": 4,
 "nbformat_minor": 5
}
